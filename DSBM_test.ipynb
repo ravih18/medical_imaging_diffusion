{
 "cells": [
  {
   "cell_type": "code",
   "execution_count": 1,
   "id": "feb00020-b9d5-4a5f-8d02-d6d6f7156eb7",
   "metadata": {},
   "outputs": [],
   "source": [
    "from pathlib import Path\n",
    "import argparse\n",
    "from utils.config import *\n",
    "from diffusion.dsbm import DSBM_IMF"
   ]
  },
  {
   "cell_type": "code",
   "execution_count": 2,
   "id": "2e506520-59bc-435c-8b8c-2846fc7a934f",
   "metadata": {},
   "outputs": [
    {
     "name": "stdout",
     "output_type": "stream",
     "text": [
      "Working dir : experiments_dsbm/ADNI_AD_CN/dsbm00\n",
      "Cache npar: 6400\n",
      "Num repeat data: 1\n",
      "Cache epochs: 1.0\n",
      "Data epochs: 0.995850622406639\n",
      "cuda\n"
     ]
    }
   ],
   "source": [
    "task = \"IXI\"\n",
    "task = \"ADNI_AD_CN\"\n",
    "#task = \"ADNI_T1_PET\"\n",
    "num = \"00\"\n",
    "\n",
    "expe_dir = Path(f\"experiments_dsbm/{task}/dsbm{num}\")\n",
    "print(f\"Working dir : {expe_dir}\")\n",
    "dsbm_params = dsbm_config_from_toml(expe_dir / \"config.toml\")\n",
    "\n",
    "if task == 'IXI':\n",
    "    from image_datasets.capsSlicesIXI import get_IXI_datasets\n",
    "    datasets = get_IXI_datasets()\n",
    "elif task == 'ADNI_T1_PET':\n",
    "    from image_datasets.capsSlicesADNI import get_ADNI_datasets\n",
    "    datasets = get_ADNI_datasets(task)\n",
    "elif task == 'ADNI_AD_CN':\n",
    "    from image_datasets.capsSlicesADNI import get_ADNI_datasets\n",
    "    datasets = get_ADNI_datasets(task)\n",
    "elif task == 'BRATS':\n",
    "    pass\n",
    "    \n",
    "dsbm = DSBM_IMF(\n",
    "    #caps_directory = caps_dir,\n",
    "    experiment_directory = expe_dir,\n",
    "    dsbm_params = dsbm_params,\n",
    "    datasets = datasets,\n",
    "    transfer = True\n",
    ")\n",
    "print(dsbm.device)"
   ]
  },
  {
   "cell_type": "code",
   "execution_count": 3,
   "id": "844d4752-5272-40e7-bba2-efb190dd5c8a",
   "metadata": {},
   "outputs": [
    {
     "name": "stdout",
     "output_type": "stream",
     "text": [
      "IPF iteration: 1/2\n"
     ]
    },
    {
     "name": "stderr",
     "output_type": "stream",
     "text": [
      "  0%|          | 0/150 [00:00<?, ?it/s]"
     ]
    },
    {
     "name": "stdout",
     "output_type": "stream",
     "text": [
      "tensor(0.8902, device='cuda:0')\n",
      "tensor(891.1812, device='cuda:0')\n"
     ]
    },
    {
     "name": "stderr",
     "output_type": "stream",
     "text": []
    },
    {
     "name": "stderr",
     "output_type": "stream",
     "text": [
      "  0%|          | 0/150 [00:03<?, ?it/s]\n"
     ]
    },
    {
     "ename": "<class 'IndexError'>",
     "evalue": "too many indices for tensor of dimension 0",
     "output_type": "error",
     "traceback": [
      "\u001b[0;31m---------------------------------------------------------------------------\u001b[0m",
      "\u001b[0;31mIndexError\u001b[0m                                Traceback (most recent call last)",
      "Cell \u001b[0;32mIn[3], line 1\u001b[0m\n\u001b[0;32m----> 1\u001b[0m \u001b[43mdsbm\u001b[49m\u001b[38;5;241;43m.\u001b[39;49m\u001b[43mtrain\u001b[49m\u001b[43m(\u001b[49m\u001b[43m)\u001b[49m\n",
      "File \u001b[0;32m/lustre/fswork/projects/rech/krk/usy14zi/diffusion_models/medical_imaging_diffusion/diffusion/dsbm.py:438\u001b[0m, in \u001b[0;36mDSBM_IMF.train\u001b[0;34m(self)\u001b[0m\n\u001b[1;32m    436\u001b[0m     \u001b[38;5;28mself\u001b[39m\u001b[38;5;241m.\u001b[39mipf_iter(\u001b[38;5;124m'\u001b[39m\u001b[38;5;124mf\u001b[39m\u001b[38;5;124m'\u001b[39m, n)\n\u001b[1;32m    437\u001b[0m \u001b[38;5;28;01melse\u001b[39;00m:\n\u001b[0;32m--> 438\u001b[0m     \u001b[38;5;28;43mself\u001b[39;49m\u001b[38;5;241;43m.\u001b[39;49m\u001b[43mipf_iter\u001b[49m\u001b[43m(\u001b[49m\u001b[38;5;124;43m'\u001b[39;49m\u001b[38;5;124;43mb\u001b[39;49m\u001b[38;5;124;43m'\u001b[39;49m\u001b[43m,\u001b[49m\u001b[43m \u001b[49m\u001b[43mn\u001b[49m\u001b[43m)\u001b[49m\n\u001b[1;32m    439\u001b[0m     \u001b[38;5;28mself\u001b[39m\u001b[38;5;241m.\u001b[39mipf_iter(\u001b[38;5;124m'\u001b[39m\u001b[38;5;124mf\u001b[39m\u001b[38;5;124m'\u001b[39m, n)\n",
      "File \u001b[0;32m/lustre/fswork/projects/rech/krk/usy14zi/diffusion_models/medical_imaging_diffusion/diffusion/dsbm.py:735\u001b[0m, in \u001b[0;36mDSBM_IMF.ipf_iter\u001b[0;34m(self, forward_or_backward, n)\u001b[0m\n\u001b[1;32m    732\u001b[0m     y \u001b[38;5;241m=\u001b[39m y\u001b[38;5;241m.\u001b[39mto(\u001b[38;5;28mself\u001b[39m\u001b[38;5;241m.\u001b[39mdevice)\n\u001b[1;32m    733\u001b[0m     y \u001b[38;5;241m=\u001b[39m y\u001b[38;5;241m.\u001b[39mrepeat_interleave(\u001b[38;5;28mself\u001b[39m\u001b[38;5;241m.\u001b[39mnum_repeat_data, dim\u001b[38;5;241m=\u001b[39m\u001b[38;5;241m0\u001b[39m)\n\u001b[0;32m--> 735\u001b[0m pred, std \u001b[38;5;241m=\u001b[39m \u001b[38;5;28;43mself\u001b[39;49m\u001b[38;5;241;43m.\u001b[39;49m\u001b[43mapply_net\u001b[49m\u001b[43m(\u001b[49m\u001b[43mx\u001b[49m\u001b[43m,\u001b[49m\u001b[43m \u001b[49m\u001b[43my\u001b[49m\u001b[43m,\u001b[49m\u001b[43m \u001b[49m\u001b[43mt\u001b[49m\u001b[43m,\u001b[49m\u001b[43m \u001b[49m\u001b[43mnet\u001b[49m\u001b[38;5;241;43m=\u001b[39;49m\u001b[38;5;28;43mself\u001b[39;49m\u001b[38;5;241;43m.\u001b[39;49m\u001b[43mnet\u001b[49m\u001b[43m[\u001b[49m\u001b[43mforward_or_backward\u001b[49m\u001b[43m]\u001b[49m\u001b[43m,\u001b[49m\u001b[43m \u001b[49m\u001b[43mfb\u001b[49m\u001b[38;5;241;43m=\u001b[39;49m\u001b[43mforward_or_backward\u001b[49m\u001b[43m,\u001b[49m\u001b[43m \u001b[49m\u001b[43mreturn_scale\u001b[49m\u001b[38;5;241;43m=\u001b[39;49m\u001b[38;5;28;43;01mTrue\u001b[39;49;00m\u001b[43m)\u001b[49m\n\u001b[1;32m    737\u001b[0m \u001b[38;5;28;01mif\u001b[39;00m \u001b[38;5;28mself\u001b[39m\u001b[38;5;241m.\u001b[39mloss_scale:\n\u001b[1;32m    738\u001b[0m     loss_scale \u001b[38;5;241m=\u001b[39m std\n",
      "File \u001b[0;32m/lustre/fswork/projects/rech/krk/usy14zi/diffusion_models/medical_imaging_diffusion/diffusion/dsbm.py:789\u001b[0m, in \u001b[0;36mDSBM_IMF.apply_net\u001b[0;34m(self, x, y, t, net, fb, return_scale)\u001b[0m\n\u001b[1;32m    788\u001b[0m \u001b[38;5;28;01mdef\u001b[39;00m \u001b[38;5;21mapply_net\u001b[39m(\u001b[38;5;28mself\u001b[39m, x, y, t, net, fb, return_scale\u001b[38;5;241m=\u001b[39m\u001b[38;5;28;01mFalse\u001b[39;00m):\n\u001b[0;32m--> 789\u001b[0m     out \u001b[38;5;241m=\u001b[39m \u001b[43mnet\u001b[49m\u001b[38;5;241;43m.\u001b[39;49m\u001b[43mforward\u001b[49m\u001b[43m(\u001b[49m\u001b[43mx\u001b[49m\u001b[43m,\u001b[49m\u001b[43m \u001b[49m\u001b[43my\u001b[49m\u001b[43m,\u001b[49m\u001b[43m \u001b[49m\u001b[43mt\u001b[49m\u001b[43m)\u001b[49m\n\u001b[1;32m    790\u001b[0m     \u001b[38;5;28;01mif\u001b[39;00m (\u001b[38;5;129;01mnot\u001b[39;00m \u001b[38;5;28mself\u001b[39m\u001b[38;5;241m.\u001b[39mloss_scale) \u001b[38;5;129;01mand\u001b[39;00m (\u001b[38;5;129;01mnot\u001b[39;00m \u001b[38;5;28mself\u001b[39m\u001b[38;5;241m.\u001b[39mstd_trick):\n\u001b[1;32m    791\u001b[0m         std \u001b[38;5;241m=\u001b[39m \u001b[38;5;241m1.\u001b[39m\n",
      "File \u001b[0;32m/lustre/fswork/projects/rech/krk/usy14zi/diffusion_models/medical_imaging_diffusion/model/unet_dsbm/unet.py:269\u001b[0m, in \u001b[0;36mUNetModel.forward\u001b[0;34m(self, x, y, timesteps)\u001b[0m\n\u001b[1;32m    267\u001b[0m hs \u001b[38;5;241m=\u001b[39m []\n\u001b[1;32m    268\u001b[0m \u001b[38;5;28mprint\u001b[39m(timesteps)\n\u001b[0;32m--> 269\u001b[0m emb \u001b[38;5;241m=\u001b[39m \u001b[38;5;28mself\u001b[39m\u001b[38;5;241m.\u001b[39mtime_embed(\u001b[43mtimestep_embedding\u001b[49m\u001b[43m(\u001b[49m\u001b[43mtimesteps\u001b[49m\u001b[43m \u001b[49m\u001b[38;5;241;43m*\u001b[39;49m\u001b[43m \u001b[49m\u001b[38;5;28;43mself\u001b[39;49m\u001b[38;5;241;43m.\u001b[39;49m\u001b[43mtemb_scale\u001b[49m\u001b[43m \u001b[49m\u001b[38;5;241;43m+\u001b[39;49m\u001b[43m \u001b[49m\u001b[38;5;241;43m1\u001b[39;49m\u001b[43m,\u001b[49m\u001b[43m \u001b[49m\u001b[38;5;28;43mself\u001b[39;49m\u001b[38;5;241;43m.\u001b[39;49m\u001b[43minput_ch\u001b[49m\u001b[43m)\u001b[49m)\n\u001b[1;32m    271\u001b[0m \u001b[38;5;28;01mif\u001b[39;00m \u001b[38;5;28mself\u001b[39m\u001b[38;5;241m.\u001b[39mnum_classes \u001b[38;5;129;01mis\u001b[39;00m \u001b[38;5;129;01mnot\u001b[39;00m \u001b[38;5;28;01mNone\u001b[39;00m:\n\u001b[1;32m    272\u001b[0m     \u001b[38;5;28;01massert\u001b[39;00m y\u001b[38;5;241m.\u001b[39mshape \u001b[38;5;241m==\u001b[39m (x\u001b[38;5;241m.\u001b[39mshape[\u001b[38;5;241m0\u001b[39m],)\n",
      "File \u001b[0;32m/lustre/fswork/projects/rech/krk/usy14zi/diffusion_models/medical_imaging_diffusion/model/unet_dsbm/layers.py:112\u001b[0m, in \u001b[0;36mtimestep_embedding\u001b[0;34m(timesteps, dim, max_period)\u001b[0m\n\u001b[1;32m    108\u001b[0m freqs \u001b[38;5;241m=\u001b[39m th\u001b[38;5;241m.\u001b[39mexp(\n\u001b[1;32m    109\u001b[0m     \u001b[38;5;241m-\u001b[39mmath\u001b[38;5;241m.\u001b[39mlog(max_period) \u001b[38;5;241m*\u001b[39m th\u001b[38;5;241m.\u001b[39marange(start\u001b[38;5;241m=\u001b[39m\u001b[38;5;241m0\u001b[39m, end\u001b[38;5;241m=\u001b[39mhalf, dtype\u001b[38;5;241m=\u001b[39mth\u001b[38;5;241m.\u001b[39mfloat32) \u001b[38;5;241m/\u001b[39m (half \u001b[38;5;241m-\u001b[39m \u001b[38;5;241m1\u001b[39m)\n\u001b[1;32m    110\u001b[0m )\u001b[38;5;241m.\u001b[39mto(device\u001b[38;5;241m=\u001b[39mtimesteps\u001b[38;5;241m.\u001b[39mdevice)\n\u001b[1;32m    111\u001b[0m \u001b[38;5;28mprint\u001b[39m(timesteps)\n\u001b[0;32m--> 112\u001b[0m args \u001b[38;5;241m=\u001b[39m \u001b[43mtimesteps\u001b[49m\u001b[43m[\u001b[49m\u001b[43m:\u001b[49m\u001b[43m,\u001b[49m\u001b[43m \u001b[49m\u001b[38;5;28;43;01mNone\u001b[39;49;00m\u001b[43m]\u001b[49m\u001b[38;5;241m.\u001b[39mfloat() \u001b[38;5;241m*\u001b[39m freqs[\u001b[38;5;28;01mNone\u001b[39;00m]\n\u001b[1;32m    113\u001b[0m embedding \u001b[38;5;241m=\u001b[39m th\u001b[38;5;241m.\u001b[39mcat([th\u001b[38;5;241m.\u001b[39mcos(args), th\u001b[38;5;241m.\u001b[39msin(args)], dim\u001b[38;5;241m=\u001b[39m\u001b[38;5;241m-\u001b[39m\u001b[38;5;241m1\u001b[39m)\n\u001b[1;32m    114\u001b[0m \u001b[38;5;28;01mif\u001b[39;00m dim \u001b[38;5;241m%\u001b[39m \u001b[38;5;241m2\u001b[39m:\n",
      "\u001b[0;31mIndexError\u001b[0m: too many indices for tensor of dimension 0"
     ]
    }
   ],
   "source": [
    "dsbm.train()"
   ]
  },
  {
   "cell_type": "code",
   "execution_count": null,
   "id": "0b59f0e5-d6f1-40cd-8b96-dbd6f2755738",
   "metadata": {},
   "outputs": [],
   "source": []
  },
  {
   "cell_type": "code",
   "execution_count": null,
   "id": "48c9d566-3821-469b-93e6-ff97dd1d069e",
   "metadata": {},
   "outputs": [],
   "source": []
  },
  {
   "cell_type": "code",
   "execution_count": null,
   "id": "0c253674-14e7-41f9-bceb-fbfffdf8c5ea",
   "metadata": {},
   "outputs": [],
   "source": []
  },
  {
   "cell_type": "code",
   "execution_count": 5,
   "id": "daa17119-d1d2-43ec-b152-294aeeeca966",
   "metadata": {},
   "outputs": [],
   "source": [
    "import torch\n",
    "t = torch.Tensor([[[[0.8902]]]])"
   ]
  },
  {
   "cell_type": "code",
   "execution_count": 7,
   "id": "ad75c6dd-718c-4ed2-baa7-0c044c6e23d7",
   "metadata": {},
   "outputs": [
    {
     "data": {
      "text/plain": [
       "tensor([[[[[0.8902]]]]])"
      ]
     },
     "execution_count": 7,
     "metadata": {},
     "output_type": "execute_result"
    }
   ],
   "source": [
    "t[:, None]"
   ]
  },
  {
   "cell_type": "code",
   "execution_count": null,
   "id": "aa44dabc-9e95-41f9-a0ef-dbf8cb0a3812",
   "metadata": {},
   "outputs": [],
   "source": []
  }
 ],
 "metadata": {
  "kernelspec": {
   "display_name": "pytorch-gpu-2.3.0_py3.11.5",
   "language": "python",
   "name": "module-conda-env-pytorch-gpu-2.3.0_py3.11.5"
  },
  "language_info": {
   "file_extension": ".py",
   "mimetype": "text/x-python",
   "name": "python",
   "version": "3.11.7"
  }
 },
 "nbformat": 4,
 "nbformat_minor": 5
}
