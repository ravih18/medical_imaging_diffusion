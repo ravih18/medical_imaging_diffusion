{
 "cells": [
  {
   "cell_type": "markdown",
   "id": "e61c05d0-b3a7-4f3e-a483-ddf2d5e0875d",
   "metadata": {},
   "source": [
    "## Load Dataset"
   ]
  },
  {
   "cell_type": "code",
   "execution_count": 6,
   "id": "8802bbea-da42-4444-b4b6-1bfd0cbf3a31",
   "metadata": {},
   "outputs": [
    {
     "name": "stdout",
     "output_type": "stream",
     "text": [
      "Image of size 64, with 1 channel(s).\n"
     ]
    }
   ],
   "source": [
    "from image_datasets.IXIdataset import IXIDataset\n",
    "from sklearn.model_selection import train_test_split\n",
    "\n",
    "root = \"/lustre/fswork/projects/rech/krk/usy14zi/datasets/IXI-dataset/size64/\"\n",
    "dataset = IXIDataset(root, mode=\"train\")\n",
    "\n",
    "train_set, val_set = train_test_split(dataset_train, test_size=41)\n",
    "\n",
    "channels, image_size, _ = dataset[0]['T1'].shape\n",
    "print(f\"Image of size {image_size}, with {channels} channel(s).\")"
   ]
  },
  {
   "cell_type": "code",
   "execution_count": 7,
   "id": "347069e6-55b4-4baf-80b1-35295a9f845c",
   "metadata": {},
   "outputs": [],
   "source": [
    "from torch.utils.data import DataLoader\n",
    "\n",
    "batch_size = 20\n",
    "\n",
    "train_loader = DataLoader(\n",
    "    train_set,\n",
    "    batch_size=batch_size,\n",
    "    shuffle=False,\n",
    ")\n",
    "val_loader = DataLoader(\n",
    "    val_set,\n",
    "    batch_size=batch_size,\n",
    "    shuffle=False,\n",
    ")"
   ]
  },
  {
   "cell_type": "markdown",
   "id": "40670592-c1f6-477c-aac8-122a87e86648",
   "metadata": {},
   "source": [
    "## Initialize denoising model"
   ]
  },
  {
   "cell_type": "code",
   "execution_count": 8,
   "id": "e4ffce80-df86-4579-86aa-af9156156d30",
   "metadata": {},
   "outputs": [
    {
     "data": {
      "text/plain": [
       "=====================================================================================\n",
       "Layer (type:depth-idx)                                       Param #\n",
       "=====================================================================================\n",
       "Unet                                                         --\n",
       "├─Conv2d: 1-1                                                128\n",
       "├─Sequential: 1-2                                            --\n",
       "│    └─SinusoidalPositionEmbeddings: 2-1                     --\n",
       "│    └─Linear: 2-2                                           16,640\n",
       "│    └─GELU: 2-3                                             --\n",
       "│    └─Linear: 2-4                                           65,792\n",
       "├─ModuleList: 1-3                                            --\n",
       "│    └─ModuleList: 2-5                                       --\n",
       "│    │    └─ResnetBlock: 3-1                                 107,008\n",
       "│    │    └─ResnetBlock: 3-2                                 107,008\n",
       "│    │    └─Residual: 3-3                                    33,088\n",
       "│    │    └─Sequential: 3-4                                  16,448\n",
       "│    └─ModuleList: 2-6                                       --\n",
       "│    │    └─ResnetBlock: 3-5                                 107,008\n",
       "│    │    └─ResnetBlock: 3-6                                 107,008\n",
       "│    │    └─Residual: 3-7                                    33,088\n",
       "│    │    └─Sequential: 3-8                                  32,896\n",
       "│    └─ModuleList: 2-7                                       --\n",
       "│    │    └─ResnetBlock: 3-9                                 361,472\n",
       "│    │    └─ResnetBlock: 3-10                                361,472\n",
       "│    │    └─Residual: 3-11                                   66,176\n",
       "│    │    └─Conv2d: 3-12                                     295,168\n",
       "├─ModuleList: 1-4                                            --\n",
       "│    └─ModuleList: 2-8                                       --\n",
       "│    │    └─ResnetBlock: 3-13                                1,706,240\n",
       "│    │    └─ResnetBlock: 3-14                                1,706,240\n",
       "│    │    └─Residual: 3-15                                   132,352\n",
       "│    │    └─Sequential: 3-16                                 295,040\n",
       "│    └─ModuleList: 2-9                                       --\n",
       "│    │    └─ResnetBlock: 3-17                                459,904\n",
       "│    │    └─ResnetBlock: 3-18                                459,904\n",
       "│    │    └─Residual: 3-19                                   66,176\n",
       "│    │    └─Sequential: 3-20                                 73,792\n",
       "│    └─ModuleList: 2-10                                      --\n",
       "│    │    └─ResnetBlock: 3-21                                152,128\n",
       "│    │    └─ResnetBlock: 3-22                                152,128\n",
       "│    │    └─Residual: 3-23                                   33,088\n",
       "│    │    └─Conv2d: 3-24                                     36,928\n",
       "├─ResnetBlock: 1-5                                           --\n",
       "│    └─Sequential: 2-11                                      --\n",
       "│    │    └─SiLU: 3-25                                       --\n",
       "│    │    └─Linear: 3-26                                     131,584\n",
       "│    └─Block: 2-12                                           --\n",
       "│    │    └─WeightStandardizedConv2d: 3-27                   590,080\n",
       "│    │    └─GroupNorm: 3-28                                  512\n",
       "│    │    └─SiLU: 3-29                                       --\n",
       "│    └─Block: 2-13                                           --\n",
       "│    │    └─WeightStandardizedConv2d: 3-30                   590,080\n",
       "│    │    └─GroupNorm: 3-31                                  512\n",
       "│    │    └─SiLU: 3-32                                       --\n",
       "│    └─Identity: 2-14                                        --\n",
       "├─Residual: 1-6                                              --\n",
       "│    └─PreNorm: 2-15                                         --\n",
       "│    │    └─Attention: 3-33                                  131,328\n",
       "│    │    └─GroupNorm: 3-34                                  512\n",
       "├─ResnetBlock: 1-7                                           --\n",
       "│    └─Sequential: 2-16                                      --\n",
       "│    │    └─SiLU: 3-35                                       --\n",
       "│    │    └─Linear: 3-36                                     131,584\n",
       "│    └─Block: 2-17                                           --\n",
       "│    │    └─WeightStandardizedConv2d: 3-37                   590,080\n",
       "│    │    └─GroupNorm: 3-38                                  512\n",
       "│    │    └─SiLU: 3-39                                       --\n",
       "│    └─Block: 2-18                                           --\n",
       "│    │    └─WeightStandardizedConv2d: 3-40                   590,080\n",
       "│    │    └─GroupNorm: 3-41                                  512\n",
       "│    │    └─SiLU: 3-42                                       --\n",
       "│    └─Identity: 2-19                                        --\n",
       "├─ResnetBlock: 1-8                                           --\n",
       "│    └─Sequential: 2-20                                      --\n",
       "│    │    └─SiLU: 3-43                                       --\n",
       "│    │    └─Linear: 3-44                                     32,896\n",
       "│    └─Block: 2-21                                           --\n",
       "│    │    └─WeightStandardizedConv2d: 3-45                   73,792\n",
       "│    │    └─GroupNorm: 3-46                                  128\n",
       "│    │    └─SiLU: 3-47                                       --\n",
       "│    └─Block: 2-22                                           --\n",
       "│    │    └─WeightStandardizedConv2d: 3-48                   36,928\n",
       "│    │    └─GroupNorm: 3-49                                  128\n",
       "│    │    └─SiLU: 3-50                                       --\n",
       "│    └─Conv2d: 2-23                                          8,256\n",
       "├─Conv2d: 1-9                                                65\n",
       "=====================================================================================\n",
       "Total params: 9,893,889\n",
       "Trainable params: 9,893,889\n",
       "Non-trainable params: 0\n",
       "====================================================================================="
      ]
     },
     "execution_count": 8,
     "metadata": {},
     "output_type": "execute_result"
    }
   ],
   "source": [
    "import torch \n",
    "from model.unet import Unet\n",
    "from torchinfo import summary\n",
    "\n",
    "device = \"cuda\" if torch.cuda.is_available() else \"cpu\"\n",
    "\n",
    "model = Unet(\n",
    "    dim=image_size,\n",
    "    channels=channels,\n",
    "    dim_mults=(1, 2, 4,)\n",
    ")\n",
    "model.to(device)\n",
    "\n",
    "summary(model)\n",
    "#print(sum(p.numel() for p in model.parameters() if p.requires_grad))"
   ]
  },
  {
   "cell_type": "markdown",
   "id": "35a45cc2-fc9b-4b3b-8a20-39565e52c5b2",
   "metadata": {},
   "source": [
    "## Initialize diffusion class"
   ]
  },
  {
   "cell_type": "code",
   "execution_count": 9,
   "id": "1a0c56b6-16ce-412b-b134-b7f4c733751a",
   "metadata": {},
   "outputs": [],
   "source": [
    "from diffusion.time_scheduler import quadratic_beta_schedule\n",
    "\n",
    "timesteps = 600\n",
    "betas = quadratic_beta_schedule(timesteps, beta_start=0.00001, beta_end=0.01)"
   ]
  },
  {
   "cell_type": "code",
   "execution_count": 10,
   "id": "034ded8e-2ed6-49b9-af76-18491445316d",
   "metadata": {},
   "outputs": [],
   "source": [
    "from diffusion.diffusion import DiffusionModel\n",
    "\n",
    "ddpm = DiffusionModel(model, timesteps, betas, device, loss_type='l2')"
   ]
  },
  {
   "cell_type": "markdown",
   "id": "a33ca67c-7bb7-4967-9895-ac00a457ac1b",
   "metadata": {},
   "source": [
    "## Train the model"
   ]
  },
  {
   "cell_type": "code",
   "execution_count": 23,
   "id": "4f5fea5f-c3b3-4ea3-ac81-4ea8cfae5d04",
   "metadata": {},
   "outputs": [],
   "source": [
    "from torch.optim import Adam\n",
    "\n",
    "epochs = 100\n",
    "optimizer = Adam(model.parameters(), lr=3e-4)"
   ]
  },
  {
   "cell_type": "code",
   "execution_count": null,
   "id": "173af893-676e-4a9c-b13c-8c872c199815",
   "metadata": {},
   "outputs": [
    {
     "name": "stderr",
     "output_type": "stream",
     "text": [
      "Epoch 0: 100%|##########| 24/24 [00:13<00:00,  1.84it/s]\n"
     ]
    },
    {
     "name": "stdout",
     "output_type": "stream",
     "text": [
      "Loss: 0.762143088504672\n"
     ]
    },
    {
     "name": "stderr",
     "output_type": "stream",
     "text": [
      "Epoch 1: 100%|##########| 24/24 [00:03<00:00,  7.85it/s]\n"
     ]
    },
    {
     "name": "stdout",
     "output_type": "stream",
     "text": [
      "Loss: 0.3397834428275625\n"
     ]
    },
    {
     "name": "stderr",
     "output_type": "stream",
     "text": [
      "Epoch 2: 100%|##########| 24/24 [00:02<00:00,  8.21it/s]\n"
     ]
    },
    {
     "name": "stdout",
     "output_type": "stream",
     "text": [
      "Loss: 0.263161089271307\n"
     ]
    },
    {
     "name": "stderr",
     "output_type": "stream",
     "text": [
      "Epoch 3: 100%|##########| 24/24 [00:02<00:00,  8.93it/s]\n"
     ]
    },
    {
     "name": "stdout",
     "output_type": "stream",
     "text": [
      "Loss: 0.20557330114146075\n"
     ]
    },
    {
     "name": "stderr",
     "output_type": "stream",
     "text": [
      "Epoch 4: 100%|##########| 24/24 [00:06<00:00,  3.47it/s]\n"
     ]
    },
    {
     "name": "stdout",
     "output_type": "stream",
     "text": [
      "Loss: 0.18417405057698488\n"
     ]
    },
    {
     "name": "stderr",
     "output_type": "stream",
     "text": [
      "Epoch 5: 100%|##########| 24/24 [00:04<00:00,  5.75it/s]\n"
     ]
    },
    {
     "name": "stdout",
     "output_type": "stream",
     "text": [
      "Loss: 0.16969719265277186\n"
     ]
    },
    {
     "name": "stderr",
     "output_type": "stream",
     "text": [
      "Epoch 6: 100%|##########| 24/24 [00:02<00:00,  8.70it/s]\n"
     ]
    },
    {
     "name": "stdout",
     "output_type": "stream",
     "text": [
      "Loss: 0.15497096876303354\n"
     ]
    },
    {
     "name": "stderr",
     "output_type": "stream",
     "text": [
      "Epoch 7: 100%|##########| 24/24 [00:02<00:00,  8.88it/s]\n"
     ]
    },
    {
     "name": "stdout",
     "output_type": "stream",
     "text": [
      "Loss: 0.13406257859120765\n"
     ]
    },
    {
     "name": "stderr",
     "output_type": "stream",
     "text": [
      "Epoch 8: 100%|##########| 24/24 [00:02<00:00,  8.29it/s]\n"
     ]
    },
    {
     "name": "stdout",
     "output_type": "stream",
     "text": [
      "Loss: 0.13333342876285315\n"
     ]
    },
    {
     "name": "stderr",
     "output_type": "stream",
     "text": [
      "Epoch 9: 100%|##########| 24/24 [00:02<00:00,  8.93it/s]\n"
     ]
    },
    {
     "name": "stdout",
     "output_type": "stream",
     "text": [
      "Loss: 0.13696973553548256\n"
     ]
    },
    {
     "name": "stderr",
     "output_type": "stream",
     "text": [
      "Epoch 10: 100%|##########| 24/24 [00:02<00:00,  8.77it/s]\n"
     ]
    },
    {
     "name": "stdout",
     "output_type": "stream",
     "text": [
      "Loss: 0.12214901794989903\n"
     ]
    },
    {
     "name": "stderr",
     "output_type": "stream",
     "text": [
      "Epoch 11: 100%|##########| 24/24 [00:02<00:00,  8.94it/s]\n"
     ]
    },
    {
     "name": "stdout",
     "output_type": "stream",
     "text": [
      "Loss: 0.11969653004780412\n"
     ]
    },
    {
     "name": "stderr",
     "output_type": "stream",
     "text": [
      "Epoch 12: 100%|##########| 24/24 [00:02<00:00,  8.95it/s]\n"
     ]
    },
    {
     "name": "stdout",
     "output_type": "stream",
     "text": [
      "Loss: 0.11212637081431846\n"
     ]
    },
    {
     "name": "stderr",
     "output_type": "stream",
     "text": [
      "Epoch 13: 100%|##########| 24/24 [00:02<00:00,  8.47it/s]\n"
     ]
    },
    {
     "name": "stdout",
     "output_type": "stream",
     "text": [
      "Loss: 0.1098571087544163\n"
     ]
    },
    {
     "name": "stderr",
     "output_type": "stream",
     "text": [
      "Epoch 14: 100%|##########| 24/24 [00:02<00:00,  8.93it/s]\n"
     ]
    },
    {
     "name": "stdout",
     "output_type": "stream",
     "text": [
      "Loss: 0.12708501672993103\n"
     ]
    },
    {
     "name": "stderr",
     "output_type": "stream",
     "text": [
      "Epoch 15: 100%|##########| 24/24 [00:02<00:00,  8.94it/s]\n"
     ]
    },
    {
     "name": "stdout",
     "output_type": "stream",
     "text": [
      "Loss: 0.12591202619175115\n"
     ]
    },
    {
     "name": "stderr",
     "output_type": "stream",
     "text": [
      "Epoch 16: 100%|##########| 24/24 [00:02<00:00,  8.95it/s]\n"
     ]
    },
    {
     "name": "stdout",
     "output_type": "stream",
     "text": [
      "Loss: 0.11380932449052732\n"
     ]
    },
    {
     "name": "stderr",
     "output_type": "stream",
     "text": [
      "Epoch 17: 100%|##########| 24/24 [00:02<00:00,  8.96it/s]\n"
     ]
    },
    {
     "name": "stdout",
     "output_type": "stream",
     "text": [
      "Loss: 0.11256256699562073\n"
     ]
    },
    {
     "name": "stderr",
     "output_type": "stream",
     "text": [
      "Epoch 18: 100%|##########| 24/24 [00:02<00:00,  8.42it/s]\n"
     ]
    },
    {
     "name": "stdout",
     "output_type": "stream",
     "text": [
      "Loss: 0.11997802276164293\n"
     ]
    },
    {
     "name": "stderr",
     "output_type": "stream",
     "text": [
      "Epoch 19: 100%|##########| 24/24 [00:02<00:00,  8.51it/s]\n"
     ]
    },
    {
     "name": "stdout",
     "output_type": "stream",
     "text": [
      "Loss: 0.10555162808547418\n"
     ]
    },
    {
     "name": "stderr",
     "output_type": "stream",
     "text": [
      "Epoch 20: 100%|##########| 24/24 [00:02<00:00,  8.98it/s]\n"
     ]
    },
    {
     "name": "stdout",
     "output_type": "stream",
     "text": [
      "Loss: 0.10047798782276611\n"
     ]
    },
    {
     "name": "stderr",
     "output_type": "stream",
     "text": [
      "Epoch 21: 100%|##########| 24/24 [00:02<00:00,  8.96it/s]\n"
     ]
    },
    {
     "name": "stdout",
     "output_type": "stream",
     "text": [
      "Loss: 0.10933972196653485\n"
     ]
    },
    {
     "name": "stderr",
     "output_type": "stream",
     "text": [
      "Epoch 22: 100%|##########| 24/24 [00:02<00:00,  8.95it/s]\n"
     ]
    },
    {
     "name": "stdout",
     "output_type": "stream",
     "text": [
      "Loss: 0.09490908356383443\n"
     ]
    },
    {
     "name": "stderr",
     "output_type": "stream",
     "text": [
      "Epoch 23: 100%|##########| 24/24 [00:02<00:00,  8.94it/s]\n"
     ]
    },
    {
     "name": "stdout",
     "output_type": "stream",
     "text": [
      "Loss: 0.10209509000803034\n"
     ]
    },
    {
     "name": "stderr",
     "output_type": "stream",
     "text": [
      "Epoch 24: 100%|##########| 24/24 [00:02<00:00,  8.98it/s]\n"
     ]
    },
    {
     "name": "stdout",
     "output_type": "stream",
     "text": [
      "Loss: 0.10459820770968993\n"
     ]
    },
    {
     "name": "stderr",
     "output_type": "stream",
     "text": [
      "Epoch 25: 100%|##########| 24/24 [00:02<00:00,  8.52it/s]\n"
     ]
    },
    {
     "name": "stdout",
     "output_type": "stream",
     "text": [
      "Loss: 0.10426626028493047\n"
     ]
    },
    {
     "name": "stderr",
     "output_type": "stream",
     "text": [
      "Epoch 26: 100%|##########| 24/24 [00:02<00:00,  8.85it/s]\n"
     ]
    },
    {
     "name": "stdout",
     "output_type": "stream",
     "text": [
      "Loss: 0.08738992960813145\n"
     ]
    },
    {
     "name": "stderr",
     "output_type": "stream",
     "text": [
      "Epoch 27: 100%|##########| 24/24 [00:02<00:00,  8.72it/s]\n"
     ]
    },
    {
     "name": "stdout",
     "output_type": "stream",
     "text": [
      "Loss: 0.08279940447149177\n"
     ]
    },
    {
     "name": "stderr",
     "output_type": "stream",
     "text": [
      "Epoch 28: 100%|##########| 24/24 [00:02<00:00,  8.91it/s]\n"
     ]
    },
    {
     "name": "stdout",
     "output_type": "stream",
     "text": [
      "Loss: 0.09846481719675164\n"
     ]
    },
    {
     "name": "stderr",
     "output_type": "stream",
     "text": [
      "Epoch 29: 100%|##########| 24/24 [00:02<00:00,  8.88it/s]\n"
     ]
    },
    {
     "name": "stdout",
     "output_type": "stream",
     "text": [
      "Loss: 0.08694962396596868\n"
     ]
    },
    {
     "name": "stderr",
     "output_type": "stream",
     "text": [
      "Epoch 30: 100%|##########| 24/24 [00:02<00:00,  8.84it/s]\n"
     ]
    },
    {
     "name": "stdout",
     "output_type": "stream",
     "text": [
      "Loss: 0.09911422757431865\n"
     ]
    },
    {
     "name": "stderr",
     "output_type": "stream",
     "text": [
      "Epoch 31: 100%|##########| 24/24 [00:02<00:00,  8.53it/s]\n"
     ]
    },
    {
     "name": "stdout",
     "output_type": "stream",
     "text": [
      "Loss: 0.09538753610104322\n"
     ]
    },
    {
     "name": "stderr",
     "output_type": "stream",
     "text": [
      "Epoch 32: 100%|##########| 24/24 [00:02<00:00,  9.00it/s]\n"
     ]
    },
    {
     "name": "stdout",
     "output_type": "stream",
     "text": [
      "Loss: 0.08463193802163005\n"
     ]
    },
    {
     "name": "stderr",
     "output_type": "stream",
     "text": [
      "Epoch 33: 100%|##########| 24/24 [00:02<00:00,  8.98it/s]\n"
     ]
    },
    {
     "name": "stdout",
     "output_type": "stream",
     "text": [
      "Loss: 0.0838304867502302\n"
     ]
    },
    {
     "name": "stderr",
     "output_type": "stream",
     "text": [
      "Epoch 34: 100%|##########| 24/24 [00:02<00:00,  8.94it/s]\n"
     ]
    },
    {
     "name": "stdout",
     "output_type": "stream",
     "text": [
      "Loss: 0.09142405989890297\n"
     ]
    },
    {
     "name": "stderr",
     "output_type": "stream",
     "text": [
      "Epoch 35: 100%|##########| 24/24 [00:02<00:00,  8.97it/s]\n"
     ]
    },
    {
     "name": "stdout",
     "output_type": "stream",
     "text": [
      "Loss: 0.09121485892683268\n"
     ]
    },
    {
     "name": "stderr",
     "output_type": "stream",
     "text": [
      "Epoch 36: 100%|##########| 24/24 [00:02<00:00,  8.95it/s]\n"
     ]
    },
    {
     "name": "stdout",
     "output_type": "stream",
     "text": [
      "Loss: 0.0855864838231355\n"
     ]
    },
    {
     "name": "stderr",
     "output_type": "stream",
     "text": [
      "Epoch 37: 100%|##########| 24/24 [00:02<00:00,  8.50it/s]\n"
     ]
    },
    {
     "name": "stdout",
     "output_type": "stream",
     "text": [
      "Loss: 0.08691422268748283\n"
     ]
    },
    {
     "name": "stderr",
     "output_type": "stream",
     "text": [
      "Epoch 38: 100%|##########| 24/24 [00:02<00:00,  8.99it/s]\n"
     ]
    },
    {
     "name": "stdout",
     "output_type": "stream",
     "text": [
      "Loss: 0.09875167502711217\n"
     ]
    },
    {
     "name": "stderr",
     "output_type": "stream",
     "text": [
      "Epoch 39: 100%|##########| 24/24 [00:02<00:00,  9.00it/s]\n"
     ]
    },
    {
     "name": "stdout",
     "output_type": "stream",
     "text": [
      "Loss: 0.08551171142607927\n"
     ]
    },
    {
     "name": "stderr",
     "output_type": "stream",
     "text": [
      "Epoch 40: 100%|##########| 24/24 [00:02<00:00,  8.84it/s]\n"
     ]
    },
    {
     "name": "stdout",
     "output_type": "stream",
     "text": [
      "Loss: 0.07622081336254875\n"
     ]
    },
    {
     "name": "stderr",
     "output_type": "stream",
     "text": [
      "Epoch 41: 100%|##########| 24/24 [00:02<00:00,  8.98it/s]\n"
     ]
    },
    {
     "name": "stdout",
     "output_type": "stream",
     "text": [
      "Loss: 0.08891753215963642\n"
     ]
    },
    {
     "name": "stderr",
     "output_type": "stream",
     "text": [
      "Epoch 42: 100%|##########| 24/24 [00:02<00:00,  8.51it/s]\n"
     ]
    },
    {
     "name": "stdout",
     "output_type": "stream",
     "text": [
      "Loss: 0.08875541125113766\n"
     ]
    },
    {
     "name": "stderr",
     "output_type": "stream",
     "text": [
      "Epoch 43: 100%|##########| 24/24 [00:02<00:00,  8.95it/s]\n"
     ]
    },
    {
     "name": "stdout",
     "output_type": "stream",
     "text": [
      "Loss: 0.08907305317309995\n"
     ]
    },
    {
     "name": "stderr",
     "output_type": "stream",
     "text": [
      "Epoch 44: 100%|##########| 24/24 [00:02<00:00,  8.91it/s]\n"
     ]
    },
    {
     "name": "stdout",
     "output_type": "stream",
     "text": [
      "Loss: 0.0814302380507191\n"
     ]
    },
    {
     "name": "stderr",
     "output_type": "stream",
     "text": [
      "Epoch 45: 100%|##########| 24/24 [00:02<00:00,  8.92it/s]\n"
     ]
    },
    {
     "name": "stdout",
     "output_type": "stream",
     "text": [
      "Loss: 0.09018850357582171\n"
     ]
    },
    {
     "name": "stderr",
     "output_type": "stream",
     "text": [
      "Epoch 46: 100%|##########| 24/24 [00:02<00:00,  8.75it/s]\n"
     ]
    },
    {
     "name": "stdout",
     "output_type": "stream",
     "text": [
      "Loss: 0.07894146861508489\n"
     ]
    },
    {
     "name": "stderr",
     "output_type": "stream",
     "text": [
      "Epoch 47: 100%|##########| 24/24 [00:02<00:00,  8.93it/s]\n"
     ]
    },
    {
     "name": "stdout",
     "output_type": "stream",
     "text": [
      "Loss: 0.08515355441098411\n"
     ]
    },
    {
     "name": "stderr",
     "output_type": "stream",
     "text": [
      "Epoch 48: 100%|##########| 24/24 [00:02<00:00,  8.33it/s]\n"
     ]
    },
    {
     "name": "stdout",
     "output_type": "stream",
     "text": [
      "Loss: 0.08781236553719889\n"
     ]
    },
    {
     "name": "stderr",
     "output_type": "stream",
     "text": [
      "Epoch 49: 100%|##########| 24/24 [00:02<00:00,  8.95it/s]\n"
     ]
    },
    {
     "name": "stdout",
     "output_type": "stream",
     "text": [
      "Loss: 0.0906438158514599\n"
     ]
    },
    {
     "name": "stderr",
     "output_type": "stream",
     "text": [
      "Epoch 50: 100%|##########| 24/24 [00:05<00:00,  4.47it/s]\n"
     ]
    },
    {
     "name": "stdout",
     "output_type": "stream",
     "text": [
      "Loss: 0.07980929951493938\n"
     ]
    },
    {
     "name": "stderr",
     "output_type": "stream",
     "text": [
      "Epoch 51: 100%|##########| 24/24 [00:15<00:00,  1.54it/s]\n"
     ]
    },
    {
     "name": "stdout",
     "output_type": "stream",
     "text": [
      "Loss: 0.08211805469666918\n"
     ]
    },
    {
     "name": "stderr",
     "output_type": "stream",
     "text": [
      "Epoch 52: 100%|##########| 24/24 [00:06<00:00,  3.66it/s]\n"
     ]
    },
    {
     "name": "stdout",
     "output_type": "stream",
     "text": [
      "Loss: 0.08989225110659997\n"
     ]
    },
    {
     "name": "stderr",
     "output_type": "stream",
     "text": [
      "Epoch 53: 100%|##########| 24/24 [00:05<00:00,  4.29it/s]\n"
     ]
    },
    {
     "name": "stdout",
     "output_type": "stream",
     "text": [
      "Loss: 0.0797460990337034\n"
     ]
    },
    {
     "name": "stderr",
     "output_type": "stream",
     "text": [
      "Epoch 54: 100%|##########| 24/24 [00:09<00:00,  2.54it/s]\n"
     ]
    },
    {
     "name": "stdout",
     "output_type": "stream",
     "text": [
      "Loss: 0.07904892476896445\n"
     ]
    },
    {
     "name": "stderr",
     "output_type": "stream",
     "text": [
      "Epoch 55: 100%|##########| 24/24 [00:03<00:00,  6.86it/s]\n"
     ]
    },
    {
     "name": "stdout",
     "output_type": "stream",
     "text": [
      "Loss: 0.08948487012336652\n"
     ]
    },
    {
     "name": "stderr",
     "output_type": "stream",
     "text": [
      "Epoch 56: 100%|##########| 24/24 [00:05<00:00,  4.04it/s]\n"
     ]
    },
    {
     "name": "stdout",
     "output_type": "stream",
     "text": [
      "Loss: 0.08720035835479696\n"
     ]
    },
    {
     "name": "stderr",
     "output_type": "stream",
     "text": [
      "Epoch 57: 100%|##########| 24/24 [00:05<00:00,  4.25it/s]\n"
     ]
    },
    {
     "name": "stdout",
     "output_type": "stream",
     "text": [
      "Loss: 0.08184156939387321\n"
     ]
    },
    {
     "name": "stderr",
     "output_type": "stream",
     "text": [
      "Epoch 58: 100%|##########| 24/24 [00:06<00:00,  3.92it/s]\n"
     ]
    },
    {
     "name": "stdout",
     "output_type": "stream",
     "text": [
      "Loss: 0.08294311786691348\n"
     ]
    },
    {
     "name": "stderr",
     "output_type": "stream",
     "text": [
      "Epoch 59: 100%|##########| 24/24 [00:05<00:00,  4.62it/s]\n"
     ]
    },
    {
     "name": "stdout",
     "output_type": "stream",
     "text": [
      "Loss: 0.07414915210877855\n"
     ]
    },
    {
     "name": "stderr",
     "output_type": "stream",
     "text": [
      "Epoch 60: 100%|##########| 24/24 [00:05<00:00,  4.14it/s]\n"
     ]
    },
    {
     "name": "stdout",
     "output_type": "stream",
     "text": [
      "Loss: 0.08270055195316672\n"
     ]
    },
    {
     "name": "stderr",
     "output_type": "stream",
     "text": [
      "Epoch 61: 100%|##########| 24/24 [00:06<00:00,  3.80it/s]\n"
     ]
    },
    {
     "name": "stdout",
     "output_type": "stream",
     "text": [
      "Loss: 0.08875709911808372\n"
     ]
    },
    {
     "name": "stderr",
     "output_type": "stream",
     "text": [
      "Epoch 62: 100%|##########| 24/24 [00:06<00:00,  3.77it/s]\n"
     ]
    },
    {
     "name": "stdout",
     "output_type": "stream",
     "text": [
      "Loss: 0.08041661302559078\n"
     ]
    },
    {
     "name": "stderr",
     "output_type": "stream",
     "text": [
      "Epoch 63:  83%|########3 | 20/24 [00:05<00:01,  2.87it/s]"
     ]
    }
   ],
   "source": [
    "ddpm.train(epochs, optimizer, train_loader, val_loader)"
   ]
  },
  {
   "cell_type": "markdown",
   "id": "df0b2877-c07a-4a8b-b278-6c3f588307c9",
   "metadata": {},
   "source": [
    "## Sample"
   ]
  },
  {
   "cell_type": "code",
   "execution_count": null,
   "id": "d26eb458-cffa-42b7-9aac-c7b7593ae9a7",
   "metadata": {},
   "outputs": [],
   "source": [
    "from diffusion.sampler import sample\n",
    "import matplotlib.pyplot as plt\n",
    "\n",
    "# sample 64 images\n",
    "samples = sample(ddpm, image_size=image_size, batch_size=64, channels=channels)\n",
    "\n",
    "# show a random one\n",
    "random_indexes = [5, 10, 15, 20, 25, 30, 35, 40, 45, 50]\n",
    "\n",
    "fig, axs = plt.subplots(1, 10, figsize=(20, 8))\n",
    "for i in range(10):\n",
    "    idx = random_indexes[i]\n",
    "    axs[i].get_xaxis().set_visible(False)\n",
    "    axs[i].get_yaxis().set_visible(False)\n",
    "    axs[i].set_title(f\"Image {idx}\")\n",
    "    axs[i].imshow(samples[-1][idx].reshape(image_size, image_size, channels), cmap=\"gray\")\n",
    "plt.show()"
   ]
  },
  {
   "cell_type": "code",
   "execution_count": null,
   "id": "22d15a54-dc85-43d8-997c-e179847300c5",
   "metadata": {},
   "outputs": [],
   "source": [
    "import matplotlib.animation as animation\n",
    "\n",
    "random_index = 5\n",
    "\n",
    "fig = plt.figure()\n",
    "ims = []\n",
    "for i in range(timesteps):\n",
    "    plt.title(f\"T = {i}\")\n",
    "    im = plt.imshow(samples[i][random_index].reshape(image_size, image_size, channels), cmap=\"gray\", animated=True)\n",
    "    ims.append([im])\n",
    "\n",
    "animate = animation.ArtistAnimation(fig, ims, interval=50, blit=True, repeat_delay=1000)\n",
    "animate.save('diffusion64x64.gif')\n",
    "plt.show()"
   ]
  },
  {
   "cell_type": "code",
   "execution_count": null,
   "id": "b94e8401-0dff-4cdb-a06c-03dd9742ccab",
   "metadata": {},
   "outputs": [],
   "source": []
  }
 ],
 "metadata": {
  "kernelspec": {
   "display_name": "pytorch-gpu-2.3.0_py3.11.5",
   "language": "python",
   "name": "module-conda-env-pytorch-gpu-2.3.0_py3.11.5"
  },
  "language_info": {
   "file_extension": ".py",
   "mimetype": "text/x-python",
   "name": "python",
   "version": "3.11.7"
  }
 },
 "nbformat": 4,
 "nbformat_minor": 5
}
